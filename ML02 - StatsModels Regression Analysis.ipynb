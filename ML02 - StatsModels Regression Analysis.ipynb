{
 "cells": [
  {
   "cell_type": "markdown",
   "metadata": {},
   "source": [
    "<img style=\"float: right;\" width=\"120\" src=\"https://s3.eu-west-1.amazonaws.com/neueda.conygre.com/pydata/images/neueda-logo.jpeg\">\n",
    "<br><br><br>"
   ]
  },
  {
   "cell_type": "markdown",
   "metadata": {},
   "source": [
    "# Overview\n",
    "\n",
    "The objective of this notebook is to demonstrate to a relatively novice python data scientist how easy it is to perform complex data analysis on market data.\n",
    "\n",
    "The piece of analysis that will be performed is:\n",
    "\n",
    "1.\tCorrelate the daily returns of PXD stock against the daily returns of a small basket of securities (SPY, Gold, Natural Gas and Oil)\n",
    "2.\tPerform a regression analysis of PXD against the basket\n",
    "3.\tExtend this to perform a regression analysis of an arbitrary security against the same basket\n",
    "4.\tExport the data to an excel spreadsheet.\n",
    "\n",
    "This analysis will touch on the following data science topics:\n",
    "- The pandas, numpy and matplotlib python packages\n",
    "- Importing data from csv files into a pandas DataFrame\n",
    "- The rows, columns and index of a DataFrame\n",
    "- Accessing data from a DataFrame along its rows and columns\n",
    "- Slicing Data\n",
    "- Time Series\n",
    "- Merging multiple DataFames into a single larger DataFrame\n",
    "- Exporting DataFames into an Excel spreadsheet\n",
    "\n",
    "\n",
    "Users will see how to execute the following operations:\n",
    "1.\tCalculate the daily returns of a security\n",
    "2.\tCorrelate the daily returns of securities\n",
    "3.\tPerform a linear regression analysis of data securities\n"
   ]
  },
  {
   "cell_type": "markdown",
   "metadata": {},
   "source": [
    "## Import the libraries\n",
    "\n",
    "To perform almost anything useful in a python program, the user/programmer/data scientist will need to use a pre-written bundle of python code, known as a python package.\n",
    "\n",
    "Users must `import` these packages into their python program.\n",
    "\n",
    "Importing packages into a python program is analogous to extending any piece of software by adding addons/apps to it. \n",
    "\n",
    "e.g.\n",
    "- using an  Excel Add-in\n",
    "- adding extensions to a chrome browser\n",
    "\n",
    "\n",
    "The most commonly used python packages are `pandas`, `numpy` and `matplotlib`, although there are literally hundreds of other packages in everyday use.\n",
    "\n",
    "**Aliases**<br>\n",
    "It is often the case that users will give a package an alias when it is imported. Users can decide on the names of any aliases they use, but the conventional aliases for the packages we will use are given below.\n",
    "\n",
    "**Magics**<br>\n",
    "The line %matploblib inline is a `python magic`.\n",
    "This magic forces the notebook to embed any graphs produced by matplotlib into this current notebook, rather than in a separate window."
   ]
  },
  {
   "cell_type": "code",
   "execution_count": 1,
   "metadata": {
    "tags": []
   },
   "outputs": [],
   "source": [
    "# Load in libraries - pandas, numpy, matplotlib are commonly used\n",
    "import pandas as pd\n",
    "import numpy as np\n",
    "import matplotlib.pyplot as plt"
   ]
  },
  {
   "cell_type": "markdown",
   "metadata": {},
   "source": [
    "## Load the data into a DataFrame\n",
    "\n",
    "Here I am using `pandas.read_excel(...)` to read in an excel spreadhseet into a pandas DataFrame called df_Basket\n",
    "\n",
    "`io`\n",
    "> the file being read in\n",
    "    \n",
    "`index_col`\n",
    "> the column of the csv file we want to use as the index of our DataFrame\n",
    "\n",
    "`parse_dates`\n",
    "> instruct the read_csv function to convert anything that looks like a date into a python date\n",
    "\n",
    "`sheet_name`\n",
    "> the name of the work sheet in the spreadsheet containing the data"
   ]
  },
  {
   "cell_type": "code",
   "execution_count": 2,
   "metadata": {},
   "outputs": [],
   "source": [
    "# Load in df_Basket\n",
    "df_Basket = pd.read_excel('https://s3.eu-west-1.amazonaws.com/neueda.conygre.com/pydata/regression.xlsx',\n",
    "                          index_col='Date',\n",
    "                          sheet_name='Basket')"
   ]
  },
  {
   "cell_type": "markdown",
   "metadata": {},
   "source": [
    "## Examine the Data\n",
    "\n",
    "Usually users will quickly inspect the data they have loaded in, to make sure they have imported it correctly. Inspecting the data is also extremely useful to get a mental image of the size and shape of the data that has been loaded in.\n",
    "\n",
    "Here are some of the most common operations "
   ]
  },
  {
   "cell_type": "code",
   "execution_count": 3,
   "metadata": {
    "tags": []
   },
   "outputs": [
    {
     "name": "stdout",
     "output_type": "stream",
     "text": [
      "<class 'pandas.core.frame.DataFrame'>\n",
      "DatetimeIndex: 644 entries, 2017-01-03 to 2019-08-19\n",
      "Data columns (total 4 columns):\n",
      " #   Column  Non-Null Count  Dtype  \n",
      "---  ------  --------------  -----  \n",
      " 0   SPY     644 non-null    float64\n",
      " 1   Oil     644 non-null    float64\n",
      " 2   Gold    644 non-null    float64\n",
      " 3   NG      644 non-null    float64\n",
      "dtypes: float64(4)\n",
      "memory usage: 25.2 KB\n"
     ]
    }
   ],
   "source": [
    "# try using the info() method\n",
    "df_Basket.info()"
   ]
  },
  {
   "cell_type": "code",
   "execution_count": 4,
   "metadata": {
    "tags": []
   },
   "outputs": [
    {
     "name": "stdout",
     "output_type": "stream",
     "text": [
      "The shape of Dataframe  (644, 4)\n",
      "The no.of rows in Dataframe  644\n",
      "The no.of column in Dataframe  4\n"
     ]
    },
    {
     "data": {
      "text/html": [
       "<div>\n",
       "<style scoped>\n",
       "    .dataframe tbody tr th:only-of-type {\n",
       "        vertical-align: middle;\n",
       "    }\n",
       "\n",
       "    .dataframe tbody tr th {\n",
       "        vertical-align: top;\n",
       "    }\n",
       "\n",
       "    .dataframe thead th {\n",
       "        text-align: right;\n",
       "    }\n",
       "</style>\n",
       "<table border=\"1\" class=\"dataframe\">\n",
       "  <thead>\n",
       "    <tr style=\"text-align: right;\">\n",
       "      <th></th>\n",
       "      <th>SPY</th>\n",
       "      <th>Oil</th>\n",
       "      <th>Gold</th>\n",
       "      <th>NG</th>\n",
       "    </tr>\n",
       "  </thead>\n",
       "  <tbody>\n",
       "    <tr>\n",
       "      <th>count</th>\n",
       "      <td>644.000000</td>\n",
       "      <td>644.000000</td>\n",
       "      <td>644.000000</td>\n",
       "      <td>644.000000</td>\n",
       "    </tr>\n",
       "    <tr>\n",
       "      <th>mean</th>\n",
       "      <td>259.270058</td>\n",
       "      <td>57.802019</td>\n",
       "      <td>1280.998292</td>\n",
       "      <td>2.964876</td>\n",
       "    </tr>\n",
       "    <tr>\n",
       "      <th>std</th>\n",
       "      <td>22.462847</td>\n",
       "      <td>8.116477</td>\n",
       "      <td>59.849990</td>\n",
       "      <td>0.461331</td>\n",
       "    </tr>\n",
       "    <tr>\n",
       "      <th>min</th>\n",
       "      <td>214.830276</td>\n",
       "      <td>42.480000</td>\n",
       "      <td>1148.650000</td>\n",
       "      <td>2.020000</td>\n",
       "    </tr>\n",
       "    <tr>\n",
       "      <th>25%</th>\n",
       "      <td>238.136368</td>\n",
       "      <td>51.420000</td>\n",
       "      <td>1237.462500</td>\n",
       "      <td>2.740000</td>\n",
       "    </tr>\n",
       "    <tr>\n",
       "      <th>50%</th>\n",
       "      <td>262.769989</td>\n",
       "      <td>56.780000</td>\n",
       "      <td>1279.950000</td>\n",
       "      <td>2.910000</td>\n",
       "    </tr>\n",
       "    <tr>\n",
       "      <th>75%</th>\n",
       "      <td>276.659904</td>\n",
       "      <td>64.317500</td>\n",
       "      <td>1313.437500</td>\n",
       "      <td>3.092500</td>\n",
       "    </tr>\n",
       "    <tr>\n",
       "      <th>max</th>\n",
       "      <td>302.010010</td>\n",
       "      <td>77.410000</td>\n",
       "      <td>1527.200000</td>\n",
       "      <td>6.240000</td>\n",
       "    </tr>\n",
       "  </tbody>\n",
       "</table>\n",
       "</div>"
      ],
      "text/plain": [
       "              SPY         Oil         Gold          NG\n",
       "count  644.000000  644.000000   644.000000  644.000000\n",
       "mean   259.270058   57.802019  1280.998292    2.964876\n",
       "std     22.462847    8.116477    59.849990    0.461331\n",
       "min    214.830276   42.480000  1148.650000    2.020000\n",
       "25%    238.136368   51.420000  1237.462500    2.740000\n",
       "50%    262.769989   56.780000  1279.950000    2.910000\n",
       "75%    276.659904   64.317500  1313.437500    3.092500\n",
       "max    302.010010   77.410000  1527.200000    6.240000"
      ]
     },
     "execution_count": 4,
     "metadata": {},
     "output_type": "execute_result"
    }
   ],
   "source": [
    "# Enter Some functions to get the size and shape if the data here\n",
    "shape=df_Basket.shape\n",
    "\n",
    "print(\"The shape of Dataframe \",shape)\n",
    "print(\"The no.of rows in Dataframe \",shape[0])\n",
    "print(\"The no.of column in Dataframe \",shape[1])\n",
    "\n",
    "# Try using describe() to get info about the data\n",
    "\n",
    "df_Basket.describe()\n"
   ]
  },
  {
   "cell_type": "markdown",
   "metadata": {},
   "source": [
    "## Correlation\n",
    "\n",
    "A pandas DataFrame has a `corr()` function that will produce a new DataFrame containing the correlation matrix.\n",
    "\n",
    "The correlation of prices for the basket DataFrame is:"
   ]
  },
  {
   "cell_type": "code",
   "execution_count": 5,
   "metadata": {
    "tags": []
   },
   "outputs": [
    {
     "data": {
      "text/html": [
       "<div>\n",
       "<style scoped>\n",
       "    .dataframe tbody tr th:only-of-type {\n",
       "        vertical-align: middle;\n",
       "    }\n",
       "\n",
       "    .dataframe tbody tr th {\n",
       "        vertical-align: top;\n",
       "    }\n",
       "\n",
       "    .dataframe thead th {\n",
       "        text-align: right;\n",
       "    }\n",
       "</style>\n",
       "<table border=\"1\" class=\"dataframe\">\n",
       "  <thead>\n",
       "    <tr style=\"text-align: right;\">\n",
       "      <th></th>\n",
       "      <th>SPY</th>\n",
       "      <th>Oil</th>\n",
       "      <th>Gold</th>\n",
       "      <th>NG</th>\n",
       "    </tr>\n",
       "  </thead>\n",
       "  <tbody>\n",
       "    <tr>\n",
       "      <th>SPY</th>\n",
       "      <td>1.000000</td>\n",
       "      <td>0.627966</td>\n",
       "      <td>0.411833</td>\n",
       "      <td>-0.225613</td>\n",
       "    </tr>\n",
       "    <tr>\n",
       "      <th>Oil</th>\n",
       "      <td>0.627966</td>\n",
       "      <td>1.000000</td>\n",
       "      <td>-0.024960</td>\n",
       "      <td>-0.073013</td>\n",
       "    </tr>\n",
       "    <tr>\n",
       "      <th>Gold</th>\n",
       "      <td>0.411833</td>\n",
       "      <td>-0.024960</td>\n",
       "      <td>1.000000</td>\n",
       "      <td>-0.441181</td>\n",
       "    </tr>\n",
       "    <tr>\n",
       "      <th>NG</th>\n",
       "      <td>-0.225613</td>\n",
       "      <td>-0.073013</td>\n",
       "      <td>-0.441181</td>\n",
       "      <td>1.000000</td>\n",
       "    </tr>\n",
       "  </tbody>\n",
       "</table>\n",
       "</div>"
      ],
      "text/plain": [
       "           SPY       Oil      Gold        NG\n",
       "SPY   1.000000  0.627966  0.411833 -0.225613\n",
       "Oil   0.627966  1.000000 -0.024960 -0.073013\n",
       "Gold  0.411833 -0.024960  1.000000 -0.441181\n",
       "NG   -0.225613 -0.073013 -0.441181  1.000000"
      ]
     },
     "execution_count": 5,
     "metadata": {},
     "output_type": "execute_result"
    }
   ],
   "source": [
    "# Correlate the basket here with the corr() method on a DataFrame\n",
    "df_Basket.corr()\n"
   ]
  },
  {
   "cell_type": "markdown",
   "metadata": {},
   "source": [
    "## Correlating PXD against the basket\n",
    "\n",
    "This is easy to achieve also\n",
    "\n",
    "- Read the PXD data into a DataFrame.\n",
    "- Calculate the percentage change for this data.\n",
    "- Concatenate this DataFrame to the basket and then produce a single correlation.\n",
    "\n",
    "As expected, the correlation between PXD performance and SPY is much stronger than with IBM and regular commodities"
   ]
  },
  {
   "cell_type": "code",
   "execution_count": 6,
   "metadata": {},
   "outputs": [
    {
     "data": {
      "text/html": [
       "<div>\n",
       "<style scoped>\n",
       "    .dataframe tbody tr th:only-of-type {\n",
       "        vertical-align: middle;\n",
       "    }\n",
       "\n",
       "    .dataframe tbody tr th {\n",
       "        vertical-align: top;\n",
       "    }\n",
       "\n",
       "    .dataframe thead th {\n",
       "        text-align: right;\n",
       "    }\n",
       "</style>\n",
       "<table border=\"1\" class=\"dataframe\">\n",
       "  <thead>\n",
       "    <tr style=\"text-align: right;\">\n",
       "      <th></th>\n",
       "      <th>PXD</th>\n",
       "    </tr>\n",
       "    <tr>\n",
       "      <th>Date</th>\n",
       "      <th></th>\n",
       "    </tr>\n",
       "  </thead>\n",
       "  <tbody>\n",
       "    <tr>\n",
       "      <th>2017-01-03</th>\n",
       "      <td>185.759918</td>\n",
       "    </tr>\n",
       "    <tr>\n",
       "      <th>2017-01-04</th>\n",
       "      <td>183.340866</td>\n",
       "    </tr>\n",
       "    <tr>\n",
       "      <th>2017-01-05</th>\n",
       "      <td>184.863968</td>\n",
       "    </tr>\n",
       "    <tr>\n",
       "      <th>2017-01-06</th>\n",
       "      <td>184.236816</td>\n",
       "    </tr>\n",
       "    <tr>\n",
       "      <th>2017-01-09</th>\n",
       "      <td>181.777924</td>\n",
       "    </tr>\n",
       "    <tr>\n",
       "      <th>...</th>\n",
       "      <td>...</td>\n",
       "    </tr>\n",
       "    <tr>\n",
       "      <th>2019-08-19</th>\n",
       "      <td>128.220001</td>\n",
       "    </tr>\n",
       "    <tr>\n",
       "      <th>2019-08-20</th>\n",
       "      <td>126.599999</td>\n",
       "    </tr>\n",
       "    <tr>\n",
       "      <th>2019-08-21</th>\n",
       "      <td>126.940002</td>\n",
       "    </tr>\n",
       "    <tr>\n",
       "      <th>2019-08-22</th>\n",
       "      <td>126.070000</td>\n",
       "    </tr>\n",
       "    <tr>\n",
       "      <th>2019-08-23</th>\n",
       "      <td>120.650002</td>\n",
       "    </tr>\n",
       "  </tbody>\n",
       "</table>\n",
       "<p>665 rows × 1 columns</p>\n",
       "</div>"
      ],
      "text/plain": [
       "                   PXD\n",
       "Date                  \n",
       "2017-01-03  185.759918\n",
       "2017-01-04  183.340866\n",
       "2017-01-05  184.863968\n",
       "2017-01-06  184.236816\n",
       "2017-01-09  181.777924\n",
       "...                ...\n",
       "2019-08-19  128.220001\n",
       "2019-08-20  126.599999\n",
       "2019-08-21  126.940002\n",
       "2019-08-22  126.070000\n",
       "2019-08-23  120.650002\n",
       "\n",
       "[665 rows x 1 columns]"
      ]
     },
     "execution_count": 6,
     "metadata": {},
     "output_type": "execute_result"
    }
   ],
   "source": [
    "# Load in the PXD data\n",
    "df_PXD = pd.read_excel('https://s3.eu-west-1.amazonaws.com/neueda.conygre.com/pydata/regression.xlsx',\n",
    "                       index_col='Date',\n",
    "                       sheet_name = 'PXD')\n",
    "df_PXD"
   ]
  },
  {
   "cell_type": "code",
   "execution_count": 7,
   "metadata": {},
   "outputs": [
    {
     "ename": "SyntaxError",
     "evalue": "invalid syntax (<ipython-input-7-76e506f1e4af>, line 1)",
     "output_type": "error",
     "traceback": [
      "\u001b[1;36m  File \u001b[1;32m\"<ipython-input-7-76e506f1e4af>\"\u001b[1;36m, line \u001b[1;32m1\u001b[0m\n\u001b[1;33m    MY CODE:\u001b[0m\n\u001b[1;37m          ^\u001b[0m\n\u001b[1;31mSyntaxError\u001b[0m\u001b[1;31m:\u001b[0m invalid syntax\n"
     ]
    }
   ],
   "source": [
    "MY CODE:"
   ]
  },
  {
   "cell_type": "code",
   "execution_count": null,
   "metadata": {
    "scrolled": true,
    "tags": []
   },
   "outputs": [],
   "source": [
    "''''# Calculate its returns with pct_change()\n",
    "df_PXD['Returns']=df_PXD['PXD'].pct_change()\n",
    "# Concatenate the PXD returns to the Basket returns\n",
    "df_Basket['PXDReturns']=df_PXD['Returns']\n",
    "# Display the correlation between PXD and the Basket\n",
    "df_CORR=pd.DataFrame()\n",
    "df_CORR['PXD']=df_Basket['PXDReturns']\n",
    "df_CORR['SPY']=df_Basket['SPY']\n",
    "df_CORR['Oil']=df_Basket['Oil']\n",
    "df_CORR['Gold']=df_Basket['Gold']\n",
    "df_CORR['NG']=df_Basket['NG']\n",
    "\n",
    "df_CORR.corr()'''"
   ]
  },
  {
   "cell_type": "code",
   "execution_count": null,
   "metadata": {},
   "outputs": [],
   "source": [
    "MAX CODE:"
   ]
  },
  {
   "cell_type": "code",
   "execution_count": 8,
   "metadata": {},
   "outputs": [
    {
     "data": {
      "text/html": [
       "<div>\n",
       "<style scoped>\n",
       "    .dataframe tbody tr th:only-of-type {\n",
       "        vertical-align: middle;\n",
       "    }\n",
       "\n",
       "    .dataframe tbody tr th {\n",
       "        vertical-align: top;\n",
       "    }\n",
       "\n",
       "    .dataframe thead th {\n",
       "        text-align: right;\n",
       "    }\n",
       "</style>\n",
       "<table border=\"1\" class=\"dataframe\">\n",
       "  <thead>\n",
       "    <tr style=\"text-align: right;\">\n",
       "      <th></th>\n",
       "      <th>PXD</th>\n",
       "      <th>SPY</th>\n",
       "      <th>Oil</th>\n",
       "      <th>Gold</th>\n",
       "      <th>NG</th>\n",
       "    </tr>\n",
       "  </thead>\n",
       "  <tbody>\n",
       "    <tr>\n",
       "      <th>PXD</th>\n",
       "      <td>1.000000</td>\n",
       "      <td>0.463130</td>\n",
       "      <td>0.494833</td>\n",
       "      <td>0.031324</td>\n",
       "      <td>0.018200</td>\n",
       "    </tr>\n",
       "    <tr>\n",
       "      <th>SPY</th>\n",
       "      <td>0.463130</td>\n",
       "      <td>1.000000</td>\n",
       "      <td>0.217715</td>\n",
       "      <td>0.013797</td>\n",
       "      <td>0.008208</td>\n",
       "    </tr>\n",
       "    <tr>\n",
       "      <th>Oil</th>\n",
       "      <td>0.494833</td>\n",
       "      <td>0.217715</td>\n",
       "      <td>1.000000</td>\n",
       "      <td>0.069057</td>\n",
       "      <td>0.023245</td>\n",
       "    </tr>\n",
       "    <tr>\n",
       "      <th>Gold</th>\n",
       "      <td>0.031324</td>\n",
       "      <td>0.013797</td>\n",
       "      <td>0.069057</td>\n",
       "      <td>1.000000</td>\n",
       "      <td>-0.043264</td>\n",
       "    </tr>\n",
       "    <tr>\n",
       "      <th>NG</th>\n",
       "      <td>0.018200</td>\n",
       "      <td>0.008208</td>\n",
       "      <td>0.023245</td>\n",
       "      <td>-0.043264</td>\n",
       "      <td>1.000000</td>\n",
       "    </tr>\n",
       "  </tbody>\n",
       "</table>\n",
       "</div>"
      ],
      "text/plain": [
       "           PXD       SPY       Oil      Gold        NG\n",
       "PXD   1.000000  0.463130  0.494833  0.031324  0.018200\n",
       "SPY   0.463130  1.000000  0.217715  0.013797  0.008208\n",
       "Oil   0.494833  0.217715  1.000000  0.069057  0.023245\n",
       "Gold  0.031324  0.013797  0.069057  1.000000 -0.043264\n",
       "NG    0.018200  0.008208  0.023245 -0.043264  1.000000"
      ]
     },
     "execution_count": 8,
     "metadata": {},
     "output_type": "execute_result"
    }
   ],
   "source": [
    "# Calculate its returns with pct_change()\n",
    "df_PXD_Returns=df_PXD.pct_change()\n",
    "df_Basket_Returns=df_Basket.pct_change()\n",
    "\n",
    "# Concatenate the PXD returns to the Basket returns\n",
    "df_returns=pd.concat([df_PXD_Returns,df_Basket_Returns],axis=1)\n",
    "\n",
    "df_returns.corr()"
   ]
  },
  {
   "cell_type": "markdown",
   "metadata": {},
   "source": [
    "## Regression Analysis\n",
    "\n",
    "Regression is an econometric method that allows a user to attempt to see what variables drive another variable.  Regression analysis calculates a number of important values\n",
    "\n",
    "**Beta, Significance & P-Values**\n",
    "\n",
    "A **beta** is what a 1-unit increase in the specific variable does to the dependent variable.\n",
    "For example a .5 beta means that if a variable is increased by 1, the dependent variable would be expected to go up by 0.5. \n",
    "\n",
    "**Significance** measures the probability that a particular variable's value was a random occurrence.\n",
    "For example, a significance factor of 0.05 means there was a 5% chance that this was a random event, 0.01 means a 1% chance, and so on. \n",
    "\n",
    "A **p-value** is used to provide the smallest level of significance at which the null hypothesis would be rejected.\n",
    "\n",
    "Beta, Significance and p-values are important because they are indicators to users about what is significant.\n",
    "\n",
    "For example, we might expect that gold prices effect all stocks. However, when we control for the market (by using SPY) we notice that the reason gold is correlated with all these stocks is because it is also correlated with the market! This gives us better precision since we see which firms really get effected by gold versus which just get effected by the overall market environment.\n",
    "\n",
    "A very accurate regression analysis is performed using the statsmodels OLS function (ordinary least squares). The formula parameter sets the dependent variable and the matrix of factors. <br><br>\n",
    "> `PXD` **~** `SPY + Oil + Gold + NG`<br>\n",
    "\n",
    "In the above expression<br>\n",
    "> `PXD` is the dependent variable <br>\n",
    "> `SPY + Oil + Gold + NG` are the set of features in the model.\n",
    "\n",
    "\n",
    "https://www.statsmodels.org/stable/index.html"
   ]
  },
  {
   "cell_type": "code",
   "execution_count": 9,
   "metadata": {
    "tags": []
   },
   "outputs": [
    {
     "data": {
      "text/html": [
       "<table class=\"simpletable\">\n",
       "<caption>OLS Regression Results</caption>\n",
       "<tr>\n",
       "  <th>Dep. Variable:</th>           <td>PXD</td>       <th>  R-squared:         </th> <td>   0.377</td>\n",
       "</tr>\n",
       "<tr>\n",
       "  <th>Model:</th>                   <td>OLS</td>       <th>  Adj. R-squared:    </th> <td>   0.374</td>\n",
       "</tr>\n",
       "<tr>\n",
       "  <th>Method:</th>             <td>Least Squares</td>  <th>  F-statistic:       </th> <td>   96.72</td>\n",
       "</tr>\n",
       "<tr>\n",
       "  <th>Date:</th>             <td>Tue, 02 Aug 2022</td> <th>  Prob (F-statistic):</th> <td>2.62e-64</td>\n",
       "</tr>\n",
       "<tr>\n",
       "  <th>Time:</th>                 <td>09:19:39</td>     <th>  Log-Likelihood:    </th> <td>  1750.8</td>\n",
       "</tr>\n",
       "<tr>\n",
       "  <th>No. Observations:</th>      <td>   643</td>      <th>  AIC:               </th> <td>  -3492.</td>\n",
       "</tr>\n",
       "<tr>\n",
       "  <th>Df Residuals:</th>          <td>   638</td>      <th>  BIC:               </th> <td>  -3469.</td>\n",
       "</tr>\n",
       "<tr>\n",
       "  <th>Df Model:</th>              <td>     4</td>      <th>                     </th>     <td> </td>   \n",
       "</tr>\n",
       "<tr>\n",
       "  <th>Covariance Type:</th>      <td>nonrobust</td>    <th>                     </th>     <td> </td>   \n",
       "</tr>\n",
       "</table>\n",
       "<table class=\"simpletable\">\n",
       "<tr>\n",
       "      <td></td>         <th>coef</th>     <th>std err</th>      <th>t</th>      <th>P>|t|</th>  <th>[0.025</th>    <th>0.975]</th>  \n",
       "</tr>\n",
       "<tr>\n",
       "  <th>Intercept</th> <td>   -0.0010</td> <td>    0.001</td> <td>   -1.631</td> <td> 0.103</td> <td>   -0.002</td> <td>    0.000</td>\n",
       "</tr>\n",
       "<tr>\n",
       "  <th>SPY</th>       <td>    0.9278</td> <td>    0.080</td> <td>   11.657</td> <td> 0.000</td> <td>    0.772</td> <td>    1.084</td>\n",
       "</tr>\n",
       "<tr>\n",
       "  <th>Oil</th>       <td>    0.4450</td> <td>    0.035</td> <td>   12.891</td> <td> 0.000</td> <td>    0.377</td> <td>    0.513</td>\n",
       "</tr>\n",
       "<tr>\n",
       "  <th>Gold</th>      <td>   -0.0063</td> <td>    0.092</td> <td>   -0.069</td> <td> 0.945</td> <td>   -0.186</td> <td>    0.174</td>\n",
       "</tr>\n",
       "<tr>\n",
       "  <th>NG</th>        <td>    0.0021</td> <td>    0.012</td> <td>    0.174</td> <td> 0.862</td> <td>   -0.021</td> <td>    0.025</td>\n",
       "</tr>\n",
       "</table>\n",
       "<table class=\"simpletable\">\n",
       "<tr>\n",
       "  <th>Omnibus:</th>       <td>109.108</td> <th>  Durbin-Watson:     </th> <td>   1.911</td>\n",
       "</tr>\n",
       "<tr>\n",
       "  <th>Prob(Omnibus):</th> <td> 0.000</td>  <th>  Jarque-Bera (JB):  </th> <td>1521.695</td>\n",
       "</tr>\n",
       "<tr>\n",
       "  <th>Skew:</th>          <td> 0.203</td>  <th>  Prob(JB):          </th> <td>    0.00</td>\n",
       "</tr>\n",
       "<tr>\n",
       "  <th>Kurtosis:</th>      <td>10.525</td>  <th>  Cond. No.          </th> <td>    146.</td>\n",
       "</tr>\n",
       "</table><br/><br/>Warnings:<br/>[1] Standard Errors assume that the covariance matrix of the errors is correctly specified."
      ],
      "text/plain": [
       "<class 'statsmodels.iolib.summary.Summary'>\n",
       "\"\"\"\n",
       "                            OLS Regression Results                            \n",
       "==============================================================================\n",
       "Dep. Variable:                    PXD   R-squared:                       0.377\n",
       "Model:                            OLS   Adj. R-squared:                  0.374\n",
       "Method:                 Least Squares   F-statistic:                     96.72\n",
       "Date:                Tue, 02 Aug 2022   Prob (F-statistic):           2.62e-64\n",
       "Time:                        09:19:39   Log-Likelihood:                 1750.8\n",
       "No. Observations:                 643   AIC:                            -3492.\n",
       "Df Residuals:                     638   BIC:                            -3469.\n",
       "Df Model:                           4                                         \n",
       "Covariance Type:            nonrobust                                         \n",
       "==============================================================================\n",
       "                 coef    std err          t      P>|t|      [0.025      0.975]\n",
       "------------------------------------------------------------------------------\n",
       "Intercept     -0.0010      0.001     -1.631      0.103      -0.002       0.000\n",
       "SPY            0.9278      0.080     11.657      0.000       0.772       1.084\n",
       "Oil            0.4450      0.035     12.891      0.000       0.377       0.513\n",
       "Gold          -0.0063      0.092     -0.069      0.945      -0.186       0.174\n",
       "NG             0.0021      0.012      0.174      0.862      -0.021       0.025\n",
       "==============================================================================\n",
       "Omnibus:                      109.108   Durbin-Watson:                   1.911\n",
       "Prob(Omnibus):                  0.000   Jarque-Bera (JB):             1521.695\n",
       "Skew:                           0.203   Prob(JB):                         0.00\n",
       "Kurtosis:                      10.525   Cond. No.                         146.\n",
       "==============================================================================\n",
       "\n",
       "Warnings:\n",
       "[1] Standard Errors assume that the covariance matrix of the errors is correctly specified.\n",
       "\"\"\""
      ]
     },
     "execution_count": 9,
     "metadata": {},
     "output_type": "execute_result"
    }
   ],
   "source": [
    "# Create a regression model with statsmodels\n",
    "# use statsmodels.formula.api (alias as sm)\n",
    "import statsmodels.formula.api as sm\n",
    "# statsmodels documentation is useful, we can use the formula:\n",
    "model=sm.ols(formula=\"PXD ~ SPY + Oil + Gold + NG\",data=df_returns)\n",
    "# \"PXD ~ SPY + Oil + Gold + NG\"\n",
    "# fit the model\n",
    "result=model.fit()\n",
    "# Prouduce the regression report\n",
    "result.summary()"
   ]
  },
  {
   "cell_type": "markdown",
   "metadata": {},
   "source": [
    "We can plot the price of PXD predicted by the model against the actual prices to get a sense of the model's accuracy"
   ]
  },
  {
   "cell_type": "code",
   "execution_count": 10,
   "metadata": {},
   "outputs": [
    {
     "data": {
      "image/png": "[encoded data removed]",
      "text/plain": [
       "<Figure size 864x576 with 1 Axes>"
      ]
     },
     "metadata": {
      "needs_background": "light"
     },
     "output_type": "display_data"
    }
   ],
   "source": [
    "%matplotlib inline\n",
    "\n",
    "# choose a date range so we can see more clearly what's happening\n",
    "date_range = \"March 2017\"\n",
    "\n",
    "fig, ax = plt.subplots(figsize=(12, 8))\n",
    "\n",
    "# plot the return for PXD and the model's prediction on the same axes for the date range\n",
    "ax.plot(df_returns.loc[date_range, 'PXD'], label=\"PXD\")\n",
    "ax.plot(result.fittedvalues.loc[date_range], \"r--\", label=\"Predicted\")\n",
    "\n",
    "\n",
    "legend = ax.legend(loc=\"best\")\n",
    "plt.xticks(rotation=45)\n",
    "\n",
    "plt.show()"
   ]
  },
  {
   "cell_type": "markdown",
   "metadata": {},
   "source": [
    "**Note the following**<br>\n",
    "1) 2 factors have a p-value  (**P>|t|**) < 0.05 : SPY and Oil<br>\n",
    "Given that PXD is an oil exploration company, it's daily returns follow very closely the returns of both the SP500 index and the price of Oil.\n",
    "\n",
    "2) The PXD beta for stock market returns is relatively high at 0.77, and Oil has a beta of 0.27. This means that for every 1% change in the price of oil, users can expect a 0.27% change in the price of the PXD stock. \n",
    "\n",
    "3) Another way of thinking of this is \n",
    "> PXD = `(0.772 X SPY) + (0.269 X Oil) + (0.046 X Gold) + (0.045 X NG)`\n",
    "\n",
    "We can turn then above statements into a function."
   ]
  },
  {
   "cell_type": "code",
   "execution_count": null,
   "metadata": {
    "tags": []
   },
   "outputs": [],
   "source": [
    "# Create a regress function here that takes a ticker\n",
    "# and a DataFrame of the basket\n",
    "# The function should return a trained ols model\n",
    "def regress(stock,df):\n",
    "    formula=\"~ SPY + Oil + Gold + NG\"\n",
    "    return sm.ols(formula=stock + formula,data=df).fit()"
   ]
  },
  {
   "cell_type": "markdown",
   "metadata": {},
   "source": [
    "## Extract Data from the report\n",
    "\n",
    "Use the `regress()` function to\n",
    "- display the report\n",
    "- display only the p-values\n",
    "- display only the p-values less than 0.05\n",
    "\n",
    "And most importantly, use the params attribute of the OLS report to display the `features` less than 0.05\n",
    "\n"
   ]
  },
  {
   "cell_type": "code",
   "execution_count": null,
   "metadata": {
    "tags": []
   },
   "outputs": [],
   "source": [
    "# run the report\n",
    "# product the summary\n",
    "# display all p-values\n",
    "# display all p-values < 0.05\n",
    "# display the `features` less than 0.05\n"
   ]
  },
  {
   "cell_type": "markdown",
   "metadata": {},
   "source": [
    "## Re-write the function\n",
    "\n",
    "To display only those factors with a p-value less than some arbirtrary value"
   ]
  },
  {
   "cell_type": "code",
   "execution_count": null,
   "metadata": {
    "tags": []
   },
   "outputs": [],
   "source": [
    "# Re-Factor the regress function, include a pval and return a filtered DataFrame\n",
    "# Execute the function\n",
    "# Display the report\n"
   ]
  },
  {
   "cell_type": "markdown",
   "metadata": {},
   "source": [
    "# Exercise"
   ]
  },
  {
   "cell_type": "markdown",
   "metadata": {},
   "source": [
    "## Perform this analysis for any abritrary stock\n",
    "\n",
    "Rather than importing a single stock data, we can easily import all stock data for all companies in the SP500 index. \n",
    "We will follow the same “pattern”:\n",
    "- Load a DataFrame that represents the basket.\n",
    "- Load a DataFrame of all SP500 stocks.\n",
    "- Calculate the daily returns and concatenate both DataFrames.\n",
    "- Calculate the Betas for ALL stocks when regressions are performed against the basket.\n",
    "- Save the results to a Spreadsheet.\n",
    "\n",
    "The first 3 steps are:"
   ]
  },
  {
   "cell_type": "code",
   "execution_count": null,
   "metadata": {},
   "outputs": [],
   "source": [
    "# Load in df_Basket\n",
    "df_Basket = pd.read_excel('https://s3.eu-west-1.amazonaws.com/neueda.conygre.com/pydata/regression.xlsx',\n",
    "                          parse_dates=True,\n",
    "                          index_col='Date',\n",
    "                          sheet_name = 'Basket')\n",
    "\n",
    "# Load in the Stock Prices\n",
    "df_Stocks = pd.read_excel('https://s3.eu-west-1.amazonaws.com/neueda.conygre.com/pydata/regression.xlsx',\n",
    "                          parse_dates=True,\n",
    "                          index_col='Date',\n",
    "                           sheet_name = 'StockPrices')"
   ]
  },
  {
   "cell_type": "code",
   "execution_count": null,
   "metadata": {
    "tags": []
   },
   "outputs": [],
   "source": [
    "# Caluclate the daily returns for the Basket and for the Stocks\n",
    "# Concatenate both DataFrames\n"
   ]
  },
  {
   "cell_type": "markdown",
   "metadata": {},
   "source": [
    "## Calculate Betas for ALL stocks with p-value < 0.05\n",
    "\n",
    "\n",
    "A very simple loop achieves this.<br>\n",
    "\n",
    "**Note**<br>\n",
    "1) the slice `f_returns.columns[:-4]` returns all BUT the last 4 columns as the last 4 columns are our basket.\n",
    "\n",
    "2) We are progressively concatenating the results of the regression into a single DataFrame containing all of the results.\n"
   ]
  },
  {
   "cell_type": "code",
   "execution_count": null,
   "metadata": {
    "tags": []
   },
   "outputs": [],
   "source": [
    "# Create an empy dataframe\n",
    "# Loop over every returns (skip the last 4 columns) and calculate the betas from a regression \n",
    "# Dislpay the shape\n"
   ]
  },
  {
   "cell_type": "markdown",
   "metadata": {},
   "source": [
    "## Export the DataFrame to a Spreadsheet\n"
   ]
  },
  {
   "cell_type": "code",
   "execution_count": null,
   "metadata": {
    "tags": []
   },
   "outputs": [],
   "source": [
    "# Create a writer\n",
    "# Convert the DataFrame to an XlsxWriter Excel object.\n",
    "# In this case we'll put each of the FANG columns in a separate sheet.\n",
    "# Close the Pandas Excel writer and output the Excel file.\n"
   ]
  }
 ],
 "metadata": {
  "kernelspec": {
   "display_name": "Python 3",
   "language": "python",
   "name": "python3"
  },
  "language_info": {
   "codemirror_mode": {
    "name": "ipython",
    "version": 3
   },
   "file_extension": ".py",
   "mimetype": "text/x-python",
   "name": "python",
   "nbconvert_exporter": "python",
   "pygments_lexer": "ipython3",
   "version": "3.6.10"
  }
 },
 "nbformat": 4,
 "nbformat_minor": 4
}
